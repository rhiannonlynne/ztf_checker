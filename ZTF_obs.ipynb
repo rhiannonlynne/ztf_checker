{
 "cells": [
  {
   "cell_type": "code",
   "execution_count": 27,
   "metadata": {},
   "outputs": [],
   "source": [
    "import os\n",
    "from copy import deepcopy\n",
    "import numpy as np\n",
    "import matplotlib.pyplot as plt\n",
    "import pandas as pd\n",
    "from astropy.time import Time\n",
    "import catalog_utils as cu"
   ]
  },
  {
   "cell_type": "code",
   "execution_count": 2,
   "metadata": {},
   "outputs": [
    {
     "name": "stdout",
     "output_type": "stream",
     "text": [
      "all metadata = 72286 exp\n",
      "non calibration exp = 63678 exp\n"
     ]
    }
   ],
   "source": [
    "# Read ZTF metadata from file. ZTF table file includes multiple header lines throughout the file.\n",
    "colnames = ['UT_START', 'sun', 'exp', 'filter', 'obstype', 'field', 'pid', 'ra', 'dec', 'slew', 'wait', \n",
    "            'fileroot', 'programpi', 'queue_comment']\n",
    "ztf_meta = pd.read_table('ztf_exposures.tbl', delim_whitespace=True, comment='|', names=colnames)\n",
    "print('all metadata = %d exp' % len(ztf_meta))\n",
    "ztf_meta = ztf_meta.query('queue_comment != \"calib\"')\n",
    "print('non calibration exp = %d exp' % len(ztf_meta))"
   ]
  },
  {
   "cell_type": "code",
   "execution_count": 66,
   "metadata": {},
   "outputs": [
    {
     "name": "stdout",
     "output_type": "stream",
     "text": [
      "exposures after time cut = 15907\n"
     ]
    }
   ],
   "source": [
    "# Pull out the times - must convert to str from 'object' format Pandas read.\n",
    "times = np.array(ztf_meta.UT_START.values, 'str')\n",
    "# Convert times to MJD units.\n",
    "t = Time(np.array(ztf_meta.UT_START.values, 'str'), format='isot', scale='utc')\n",
    "ztf_meta['mjd'] = t.mjd\n",
    "\n",
    "# And cut out images which predate our alert stream\n",
    "t_start = Time('2018-06-18T23:30:00', format='isot', scale='utc')\n",
    "ztf_meta = ztf_meta.query('mjd >= @t_start.mjd')\n",
    "print('exposures after time cut = %d' % len(ztf_meta))"
   ]
  },
  {
   "cell_type": "code",
   "execution_count": 67,
   "metadata": {},
   "outputs": [
    {
     "data": {
      "text/html": [
       "<div>\n",
       "<style scoped>\n",
       "    .dataframe tbody tr th:only-of-type {\n",
       "        vertical-align: middle;\n",
       "    }\n",
       "\n",
       "    .dataframe tbody tr th {\n",
       "        vertical-align: top;\n",
       "    }\n",
       "\n",
       "    .dataframe thead th {\n",
       "        text-align: right;\n",
       "    }\n",
       "</style>\n",
       "<table border=\"1\" class=\"dataframe\">\n",
       "  <thead>\n",
       "    <tr style=\"text-align: right;\">\n",
       "      <th></th>\n",
       "      <th>UT_START</th>\n",
       "      <th>mjd</th>\n",
       "      <th>ra</th>\n",
       "      <th>dec</th>\n",
       "      <th>filter</th>\n",
       "      <th>exp</th>\n",
       "    </tr>\n",
       "  </thead>\n",
       "  <tbody>\n",
       "    <tr>\n",
       "      <th>54119</th>\n",
       "      <td>2018-06-19T04:05:26.7</td>\n",
       "      <td>58288.170448</td>\n",
       "      <td>216.9938</td>\n",
       "      <td>-9.85</td>\n",
       "      <td>3</td>\n",
       "      <td>30</td>\n",
       "    </tr>\n",
       "    <tr>\n",
       "      <th>54120</th>\n",
       "      <td>2018-06-19T04:06:06.0</td>\n",
       "      <td>58288.170903</td>\n",
       "      <td>220.6100</td>\n",
       "      <td>-2.65</td>\n",
       "      <td>3</td>\n",
       "      <td>30</td>\n",
       "    </tr>\n",
       "    <tr>\n",
       "      <th>54121</th>\n",
       "      <td>2018-06-19T04:06:45.3</td>\n",
       "      <td>58288.171358</td>\n",
       "      <td>219.6171</td>\n",
       "      <td>4.55</td>\n",
       "      <td>3</td>\n",
       "      <td>30</td>\n",
       "    </tr>\n",
       "    <tr>\n",
       "      <th>54122</th>\n",
       "      <td>2018-06-19T04:07:25.0</td>\n",
       "      <td>58288.171817</td>\n",
       "      <td>215.1253</td>\n",
       "      <td>11.75</td>\n",
       "      <td>3</td>\n",
       "      <td>30</td>\n",
       "    </tr>\n",
       "    <tr>\n",
       "      <th>54123</th>\n",
       "      <td>2018-06-19T04:08:04.4</td>\n",
       "      <td>58288.172273</td>\n",
       "      <td>216.2361</td>\n",
       "      <td>18.95</td>\n",
       "      <td>3</td>\n",
       "      <td>30</td>\n",
       "    </tr>\n",
       "  </tbody>\n",
       "</table>\n",
       "</div>"
      ],
      "text/plain": [
       "                    UT_START           mjd        ra    dec  filter  exp\n",
       "54119  2018-06-19T04:05:26.7  58288.170448  216.9938  -9.85       3   30\n",
       "54120  2018-06-19T04:06:06.0  58288.170903  220.6100  -2.65       3   30\n",
       "54121  2018-06-19T04:06:45.3  58288.171358  219.6171   4.55       3   30\n",
       "54122  2018-06-19T04:07:25.0  58288.171817  215.1253  11.75       3   30\n",
       "54123  2018-06-19T04:08:04.4  58288.172273  216.2361  18.95       3   30"
      ]
     },
     "execution_count": 67,
     "metadata": {},
     "output_type": "execute_result"
    }
   ],
   "source": [
    "cols = ['UT_START', 'mjd', 'ra', 'dec', 'filter', 'exp']\n",
    "ztf_meta[cols][0:5]"
   ]
  },
  {
   "cell_type": "code",
   "execution_count": 68,
   "metadata": {},
   "outputs": [],
   "source": [
    "# Let's read some orbits\n",
    "catdir = 'catalogs'\n",
    "mpcfile = 'tmp_mpc.dat'\n",
    "astfile = 'tmp_ast.dat'"
   ]
  },
  {
   "cell_type": "code",
   "execution_count": 69,
   "metadata": {},
   "outputs": [],
   "source": [
    "mpc = cu.read_mpcorb(os.path.join(catdir, mpcfile))"
   ]
  },
  {
   "cell_type": "code",
   "execution_count": 70,
   "metadata": {},
   "outputs": [],
   "source": [
    "ast = cu.read_astorb(os.path.join(catdir, astfile))"
   ]
  },
  {
   "cell_type": "code",
   "execution_count": 71,
   "metadata": {},
   "outputs": [],
   "source": [
    "from lsst.sims.movingObjects import Orbits, PyOrbEphemerides\n",
    "from lsst.sims.utils import angularSeparation\n",
    "from lsst.sims.movingObjects import DirectObs"
   ]
  },
  {
   "cell_type": "code",
   "execution_count": 94,
   "metadata": {},
   "outputs": [],
   "source": [
    "obj = mpc.iloc[100]"
   ]
  },
  {
   "cell_type": "code",
   "execution_count": 95,
   "metadata": {},
   "outputs": [],
   "source": [
    "orb = Orbits()\n",
    "orb.setOrbits(deepcopy(vesta))"
   ]
  },
  {
   "cell_type": "code",
   "execution_count": 96,
   "metadata": {},
   "outputs": [
    {
     "data": {
      "text/html": [
       "<div>\n",
       "<style scoped>\n",
       "    .dataframe tbody tr th:only-of-type {\n",
       "        vertical-align: middle;\n",
       "    }\n",
       "\n",
       "    .dataframe tbody tr th {\n",
       "        vertical-align: top;\n",
       "    }\n",
       "\n",
       "    .dataframe thead th {\n",
       "        text-align: right;\n",
       "    }\n",
       "</style>\n",
       "<table border=\"1\" class=\"dataframe\">\n",
       "  <thead>\n",
       "    <tr style=\"text-align: right;\">\n",
       "      <th></th>\n",
       "      <th>mpcId</th>\n",
       "      <th>H</th>\n",
       "      <th>G</th>\n",
       "      <th>epoch</th>\n",
       "      <th>meanAnomaly</th>\n",
       "      <th>argPeri</th>\n",
       "      <th>Omega</th>\n",
       "      <th>inc</th>\n",
       "      <th>e</th>\n",
       "      <th>meanDailyMotion</th>\n",
       "      <th>...</th>\n",
       "      <th>precisePerts</th>\n",
       "      <th>computer</th>\n",
       "      <th>readableName</th>\n",
       "      <th>lastObs</th>\n",
       "      <th>numberId</th>\n",
       "      <th>Name</th>\n",
       "      <th>Desig</th>\n",
       "      <th>objId</th>\n",
       "      <th>g</th>\n",
       "      <th>sed_filename</th>\n",
       "    </tr>\n",
       "  </thead>\n",
       "  <tbody>\n",
       "    <tr>\n",
       "      <th>100</th>\n",
       "      <td>101</td>\n",
       "      <td>8.33</td>\n",
       "      <td>0.35</td>\n",
       "      <td>51991.0</td>\n",
       "      <td>18.38457</td>\n",
       "      <td>348.3317</td>\n",
       "      <td>343.40242</td>\n",
       "      <td>10.19517</td>\n",
       "      <td>0.14</td>\n",
       "      <td>0.237351</td>\n",
       "      <td>...</td>\n",
       "      <td>38h</td>\n",
       "      <td>MPCLINUX</td>\n",
       "      <td>(101) Helena</td>\n",
       "      <td>20171216</td>\n",
       "      <td>101</td>\n",
       "      <td>Helena</td>\n",
       "      <td>NULL</td>\n",
       "      <td>101</td>\n",
       "      <td>0.15</td>\n",
       "      <td>S.dat</td>\n",
       "    </tr>\n",
       "  </tbody>\n",
       "</table>\n",
       "<p>1 rows × 27 columns</p>\n",
       "</div>"
      ],
      "text/plain": [
       "     mpcId     H     G    epoch  meanAnomaly   argPeri      Omega       inc  \\\n",
       "100    101  8.33  0.35  51991.0     18.38457  348.3317  343.40242  10.19517   \n",
       "\n",
       "        e  meanDailyMotion     ...       precisePerts  computer  readableName  \\\n",
       "100  0.14         0.237351     ...                38h  MPCLINUX  (101) Helena   \n",
       "\n",
       "      lastObs numberId    Name Desig objId     g sed_filename  \n",
       "100  20171216      101  Helena  NULL   101  0.15        S.dat  \n",
       "\n",
       "[1 rows x 27 columns]"
      ]
     },
     "execution_count": 96,
     "metadata": {},
     "output_type": "execute_result"
    }
   ],
   "source": [
    "orb.orbits"
   ]
  },
  {
   "cell_type": "code",
   "execution_count": 97,
   "metadata": {},
   "outputs": [],
   "source": [
    "oorbeph = PyOrbEphemerides()\n",
    "oorbeph.setOrbits(orb)"
   ]
  },
  {
   "cell_type": "code",
   "execution_count": 98,
   "metadata": {},
   "outputs": [],
   "source": [
    "# %%timeit\n",
    "times = ztf_meta.mjd.values\n",
    "eph = oorbeph.generateEphemerides(times, obscode='I41')\n",
    "ephs = eph[0]"
   ]
  },
  {
   "cell_type": "code",
   "execution_count": 100,
   "metadata": {},
   "outputs": [
    {
     "data": {
      "text/plain": [
       "(array([ 190.86397311,  190.86402702,  190.86408094, ...,  195.86359187,\n",
       "         195.86370357,  195.8638125 ]),\n",
       " array([ 2.77643525,  2.77638841,  2.77634157, ..., -0.55335446,\n",
       "        -0.5534184 , -0.55348074]))"
      ]
     },
     "execution_count": 100,
     "metadata": {},
     "output_type": "execute_result"
    }
   ],
   "source": [
    "ephs['ra'], ephs['dec']"
   ]
  },
  {
   "cell_type": "code",
   "execution_count": 101,
   "metadata": {},
   "outputs": [],
   "source": [
    "separation_from_ztf_fields = angularSeparation(ephs['ra'], ephs['dec'], \n",
    "                                               ztf_meta['ra'].values, ztf_meta['dec'].values)"
   ]
  },
  {
   "cell_type": "code",
   "execution_count": 102,
   "metadata": {},
   "outputs": [],
   "source": [
    "ztf_rfov = np.sqrt(47.)/np.pi\n",
    "idxs = np.where(separation_from_ztf_fields < ztf_rfov)"
   ]
  },
  {
   "cell_type": "code",
   "execution_count": 103,
   "metadata": {},
   "outputs": [
    {
     "data": {
      "text/plain": [
       "array([], dtype=float64)"
      ]
     },
     "execution_count": 103,
     "metadata": {},
     "output_type": "execute_result"
    }
   ],
   "source": [
    "ephs['magV'][idxs]"
   ]
  },
  {
   "cell_type": "code",
   "execution_count": 64,
   "metadata": {},
   "outputs": [
    {
     "data": {
      "text/plain": [
       "array(['2018-03-27T03:33:20.400', '2018-03-27T04:41:51.800',\n",
       "       '2018-03-27T05:48:14.500', '2018-03-28T05:47:45.100',\n",
       "       '2018-03-29T04:36:25.200', '2018-03-30T04:49:08.600',\n",
       "       '2018-03-30T05:25:56.600', '2018-03-30T05:48:04.400',\n",
       "       '2018-03-31T05:21:50.100', '2018-04-02T03:09:55.000',\n",
       "       '2018-04-02T03:22:23.900', '2018-04-02T04:37:39.400',\n",
       "       '2018-04-06T03:16:01.900', '2018-04-06T03:55:59.500',\n",
       "       '2018-04-07T04:15:00.300', '2018-04-23T03:27:05.000',\n",
       "       '2018-04-23T04:40:51.700', '2018-04-26T03:57:19.600',\n",
       "       '2018-04-26T05:04:23.600', '2018-04-29T04:34:35.500',\n",
       "       '2018-05-08T03:48:05.000', '2018-05-08T04:13:20.400',\n",
       "       '2018-05-11T03:43:22.100', '2018-05-11T04:28:51.500'],\n",
       "      dtype='<U23')"
      ]
     },
     "execution_count": 64,
     "metadata": {},
     "output_type": "execute_result"
    }
   ],
   "source": [
    "Time(ephs['time'][idxs], format='mjd').isot"
   ]
  },
  {
   "cell_type": "code",
   "execution_count": 56,
   "metadata": {},
   "outputs": [
    {
     "data": {
      "text/plain": [
       "24"
      ]
     },
     "execution_count": 56,
     "metadata": {},
     "output_type": "execute_result"
    }
   ],
   "source": [
    "len(idxs[0])"
   ]
  },
  {
   "cell_type": "code",
   "execution_count": 104,
   "metadata": {},
   "outputs": [
    {
     "ename": "ModuleNotFoundError",
     "evalue": "No module named 'mysql'",
     "output_type": "error",
     "traceback": [
      "\u001b[0;31m---------------------------------------------------------------------------\u001b[0m",
      "\u001b[0;31mModuleNotFoundError\u001b[0m                       Traceback (most recent call last)",
      "\u001b[0;32m<ipython-input-104-3418411ac62a>\u001b[0m in \u001b[0;36m<module>\u001b[0;34m()\u001b[0m\n\u001b[1;32m      1\u001b[0m \u001b[0;31m# Did this show up in alerts?\u001b[0m\u001b[0;34m\u001b[0m\u001b[0;34m\u001b[0m\u001b[0m\n\u001b[0;32m----> 2\u001b[0;31m \u001b[0;32mimport\u001b[0m \u001b[0mmysql\u001b[0m\u001b[0;34m.\u001b[0m\u001b[0mconnector\u001b[0m \u001b[0;32mas\u001b[0m \u001b[0mmariadb\u001b[0m\u001b[0;34m\u001b[0m\u001b[0m\n\u001b[0m\u001b[1;32m      3\u001b[0m \u001b[0malldf\u001b[0m \u001b[0;34m=\u001b[0m \u001b[0mpd\u001b[0m\u001b[0;34m.\u001b[0m\u001b[0mread_sql_query\u001b[0m\u001b[0;34m(\u001b[0m\u001b[0;34m'select * from alerts where ssdistnr > -1 and jd > %f'\u001b[0m \u001b[0;34m%\u001b[0m \u001b[0;34m(\u001b[0m\u001b[0mt_start\u001b[0m\u001b[0;34m.\u001b[0m\u001b[0mjd\u001b[0m\u001b[0;34m)\u001b[0m\u001b[0;34m,\u001b[0m \u001b[0mcon\u001b[0m\u001b[0;34m)\u001b[0m\u001b[0;34m\u001b[0m\u001b[0m\n",
      "\u001b[0;31mModuleNotFoundError\u001b[0m: No module named 'mysql'"
     ]
    }
   ],
   "source": [
    "# Did this show up in alerts?\n",
    "import mysql.connector as mariadb\n",
    "alldf = pd.read_sql_query('select * from alerts where ssdistnr > -1 and jd > %f' % (t_start.jd), con)"
   ]
  },
  {
   "cell_type": "code",
   "execution_count": null,
   "metadata": {},
   "outputs": [],
   "source": []
  }
 ],
 "metadata": {
  "kernelspec": {
   "display_name": "Python 3",
   "language": "python",
   "name": "python3"
  },
  "language_info": {
   "codemirror_mode": {
    "name": "ipython",
    "version": 3
   },
   "file_extension": ".py",
   "mimetype": "text/x-python",
   "name": "python",
   "nbconvert_exporter": "python",
   "pygments_lexer": "ipython3",
   "version": "3.6.6"
  }
 },
 "nbformat": 4,
 "nbformat_minor": 2
}
